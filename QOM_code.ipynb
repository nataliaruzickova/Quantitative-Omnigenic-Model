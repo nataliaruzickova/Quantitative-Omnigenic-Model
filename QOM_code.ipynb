{
 "cells": [
  {
   "cell_type": "markdown",
   "id": "d9002457-869b-4f3c-ac5d-2088fe73d05b",
   "metadata": {},
   "source": [
    "# Code to: **Quantitative omnigenic model discovers interpretable genome-wide associations** \n",
    "## by Ruzickova, Hledik & Tkacik\n",
    "\n",
    "Code for running and evaluating the QOM and PRS and shuffling regulatory networks to test their predictive power."
   ]
  },
  {
   "cell_type": "markdown",
   "id": "342e3081-080d-42a9-b3ba-56512bb2c6b3",
   "metadata": {},
   "source": [
    "## 1. Load libraries and pre-processed data"
   ]
  },
  {
   "cell_type": "code",
   "execution_count": 1,
   "id": "3babd1a3-a90b-4a59-892d-689d4cc9c8f8",
   "metadata": {},
   "outputs": [
    {
     "name": "stdout",
     "output_type": "stream",
     "text": [
      "defined absolute path:  and appended sub-folders scripts and results and defined init_SEM_GWAS_path: scripts/, results_path: results/, data_path: data/\n"
     ]
    }
   ],
   "source": [
    "import os, sys\n",
    "\n",
    "#misc\n",
    "import numpy as np\n",
    "import pandas as pd\n",
    "pd.options.mode.chained_assignment = None  # default='warn'\n",
    "\n",
    "exec(open('scripts/load_paths.py', 'r').read())\n",
    "\n",
    "from copy import deepcopy\n",
    "import re\n",
    "from importlib import reload\n",
    "from joblib import Parallel, delayed, parallel_backend\n",
    "from pathlib import Path\n",
    "from glob import glob\n",
    "\n",
    "#plotting\n",
    "import matplotlib.pyplot as plt\n",
    "\n",
    "#custom functions\n",
    "import functions as f\n",
    "# import polyms_statistics_functions as pf\n",
    "\n",
    "#scipy stats\n",
    "from scipy import stats, optimize\n",
    "from scipy.sparse import csr_matrix\n",
    "from scipy.stats import pearsonr, spearmanr\n",
    "\n",
    "#ML\n",
    "from sklearn.linear_model import MultiTaskLassoCV, Lasso\n",
    "\n",
    "import pandas as pd\n",
    "import matplotlib.pyplot as plt\n",
    "from matplotlib.ticker import ScalarFormatter\n",
    "import numpy as np\n",
    "import csv\n",
    "import math\n",
    "\n",
    "import string\n",
    "alphabet = list(string.ascii_uppercase)\n",
    "\n",
    "import warnings\n",
    "warnings.filterwarnings(\"ignore\", message=\"An input array is constant; the correlation coefficient is not defined.\")\n",
    "from sklearn.linear_model import LinearRegression"
   ]
  },
  {
   "cell_type": "code",
   "execution_count": 2,
   "id": "d18e3bf0-4d25-4796-8e95-90d8aca61c78",
   "metadata": {
    "scrolled": true
   },
   "outputs": [
    {
     "name": "stdout",
     "output_type": "stream",
     "text": [
      "loading data\n",
      "loaded X_df_norm, X_df_norm_full, Y_df_norm, B_prior, D_prior, test_folds_df, val_folds_df and defined QOM_bound_prior, N_folds, individuals_test, individuals_train, individuals_val, individuals_testval\n"
     ]
    }
   ],
   "source": [
    "exec(open(init_SEM_GWAS_path+'load_data.py', 'r').read())"
   ]
  },
  {
   "cell_type": "markdown",
   "id": "de650012-9204-4d87-8c22-65b796a1b927",
   "metadata": {},
   "source": [
    "## 2. Cis / QOM 0th order"
   ]
  },
  {
   "cell_type": "markdown",
   "id": "bd355fa1-4d43-46e4-84a4-7eb6744b458c",
   "metadata": {},
   "source": [
    "### 2.1 fit cis for different values of L1 regulariser"
   ]
  },
  {
   "cell_type": "code",
   "execution_count": 3,
   "id": "4ac358fc-183e-4eca-91e0-5500bcfe2b4f",
   "metadata": {},
   "outputs": [],
   "source": [
    "def compute_D_for_one_lambda(D_prior, lambd):\n",
    "    '''\n",
    "    Lasso (L1 norm regularised) regression\n",
    "    D_prior: (N_markers, N_genes) binary matrix defining the sparsity strustuce of the direct effects D\n",
    "    lambd: L1 norm regularisation strength\n",
    "    returns: \n",
    "        D: (N_markers, N_genes) matrix of direct genetic effects\n",
    "    '''\n",
    "    D = 0.0*D_prior\n",
    "    for i, gene in enumerate(Y_df_norm.columns):\n",
    "        if i%30==0: print('lambda {}, gene {}/{}'.format(lambd, i, Y_df_norm.shape[1]))\n",
    "        clf = Lasso(alpha = lambd, max_iter = 20000)\n",
    "        cis_SNPs_index = D_prior.loc[D_prior.loc[:, gene]>0, gene].index\n",
    "        if len(cis_SNPs_index) > 0:\n",
    "            clf.fit(X_df_norm.iloc[individuals_train].loc[:, cis_SNPs_index], Y_df_norm.iloc[individuals_train].loc[:, gene])\n",
    "            D.loc[cis_SNPs_index, gene] = clf.coef_\n",
    "    return D"
   ]
  },
  {
   "cell_type": "code",
   "execution_count": null,
   "id": "68f2cc88-871c-4dc3-ada3-5d6d7967a1eb",
   "metadata": {
    "scrolled": true
   },
   "outputs": [
    {
     "name": "stdout",
     "output_type": "stream",
     "text": [
      "L1 lambda  0\n",
      "L1 lambda  0.001\n",
      "L1 lambda  0.002\n",
      "L1 lambda  0.003\n",
      "L1 lambda  0.004\n",
      "L1 lambda  0.005\n",
      "L1 lambda  0.006\n"
     ]
    }
   ],
   "source": [
    "D_cis = {} \n",
    "lambd_list_cis = [0, 0.001, 0.002, 0.003, 0.004, 0.005, 0.006, 0.007, 0.008, 0.009, 0.01]\n",
    "\n",
    "for lambd in lambd_list_cis:\n",
    "    print('L1 lambda ', lambd) \n",
    "    # compute and save:\n",
    "    D_cis[lambd] = compute_D_for_one_lambda(D_prior, lambd)\n",
    "    D_cis[lambd].to_csv(results_path+'D_cis_lasso_genebygene_lambd{}.csv'.format(lambd))\n",
    "\n",
    "# or load optimal D precomputed\n",
    "# D = pd.read_csv(precomp_results_path+'D_cis_lasso_genebygene.csv', index_col = 0)"
   ]
  },
  {
   "cell_type": "code",
   "execution_count": 114,
   "id": "d7baa094-6fd9-40a4-9b8d-d48ab446cb3f",
   "metadata": {
    "scrolled": true
   },
   "outputs": [
    {
     "name": "stdout",
     "output_type": "stream",
     "text": [
      "L1 lambda  0.0\n",
      "L1 lambda  0.001\n",
      "L1 lambda  0.002\n",
      "L1 lambda  0.003\n",
      "L1 lambda  0.004\n",
      "L1 lambda  0.005\n",
      "L1 lambda  0.006\n",
      "L1 lambda  0.007\n",
      "L1 lambda  0.008\n",
      "L1 lambda  0.009\n",
      "L1 lambda  0.01\n",
      "L1 lambda  0.011\n",
      "L1 lambda  0.012\n",
      "L1 lambda  0.013\n",
      "L1 lambda  0.014\n",
      "L1 lambda  0.015\n",
      "L1 lambda  0.016\n",
      "L1 lambda  0.017\n",
      "L1 lambda  0.018\n",
      "L1 lambda  0.019\n",
      "L1 lambda  0.02\n",
      "L1 lambda  0.021\n",
      "L1 lambda  0.022\n",
      "L1 lambda  0.023\n",
      "L1 lambda  0.024\n",
      "L1 lambda  0.025\n",
      "L1 lambda  0.026\n",
      "L1 lambda  0.027\n",
      "L1 lambda  0.028\n",
      "L1 lambda  0.029\n",
      "L1 lambda  0.03\n",
      "L1 lambda  0.031\n",
      "L1 lambda  0.032\n",
      "L1 lambda  0.033\n",
      "L1 lambda  0.034\n",
      "L1 lambda  0.035\n",
      "L1 lambda  0.036\n",
      "L1 lambda  0.037\n",
      "L1 lambda  0.038\n",
      "L1 lambda  0.039\n",
      "L1 lambda  0.04\n",
      "L1 lambda  0.041\n",
      "L1 lambda  0.042\n",
      "L1 lambda  0.043\n",
      "L1 lambda  0.044\n",
      "L1 lambda  0.045\n",
      "L1 lambda  0.046\n",
      "L1 lambda  0.047\n",
      "L1 lambda  0.048\n",
      "L1 lambda  0.049\n",
      "L1 lambda  0.05\n",
      "L1 lambda  0.055\n",
      "L1 lambda  0.06\n",
      "L1 lambda  0.065\n",
      "L1 lambda  0.07\n",
      "L1 lambda  0.075\n",
      "L1 lambda  0.08\n",
      "L1 lambda  0.085\n",
      "L1 lambda  0.09\n",
      "L1 lambda  0.095\n",
      "L1 lambda  0.1\n"
     ]
    }
   ],
   "source": [
    "# compute predicted gene expressions\n",
    "Y_pred_cis = {}\n",
    "for lambd in lambd_list_cis:\n",
    "    print('L1 lambda ', lambd) \n",
    "    Y_pred_cis[lambd] = X_df_norm@D_cis[lambd]"
   ]
  },
  {
   "cell_type": "markdown",
   "id": "ae9012bf-84e5-497a-b7c3-ecbadfa598d8",
   "metadata": {},
   "source": [
    "### 2.2 pick optimal regularisation"
   ]
  },
  {
   "cell_type": "code",
   "execution_count": 162,
   "id": "5ed58dd1-9e7f-4881-93d6-cbf99f3b01e4",
   "metadata": {},
   "outputs": [],
   "source": [
    "def choose_optimal_L1reg(Y_pred, regularisation_identifier, h2, plot=True):\n",
    "    '''\n",
    "    Y_pred: dict; keys: regularisation strengths (lambda), values: model predicted expressions,\n",
    "    regularisation_identifier: str; which performance matrix to use for picking optimal. \n",
    "        'R2': variance R^2 = r^2(Y_pred, Y_real) in GE explained for all genes in aggregate\n",
    "        'R2_gbg': average per-gene variance explained, RY2 computed for each gene separately\n",
    "        'foh2': fraction of heritability explained, per-gene R^2/h2\n",
    "        'rR2h2': pearson r^2 between per-gene R^2 and heritability h2\n",
    "    h2: pandas dataframe; indexed by gene name. per-gene heritability estimate\n",
    "    plot: bool; if True plots validation performance r_val as a funtion of lambda\n",
    "    \n",
    "    returns: \n",
    "        lambd_opt: optimal regulariser valua\n",
    "        R2_gbg: (N_genes, N_folds) per-gene variance explained for each test fold\n",
    "        E_R2_gbg: (N_folds) per-gene variance explained, average accorss genes\n",
    "        R2_R2_h2: (N_folds) pearson r^2 between per-gene R^2 and heritability h2\n",
    "        foh2: (N_folds) per-gene fraction of h2 explained, average accross genes \n",
    "        R2: (N_folds) variance in GE explained for all genes in aggregate\n",
    "    ''' \n",
    "    R2_gbg, E_R2_gbg, R2_R2_h2, foh2, R2 = [], [], [], [], []\n",
    "    \n",
    "    r_val = []\n",
    "    lambdas = list(Y_pred.keys())\n",
    "    for lambd in lambdas:\n",
    "        print(lambd)\n",
    "        r_val_temp = []\n",
    "        R2_gbg_temp = []\n",
    "        for i in range(N_folds):\n",
    "            indiv_val_temp = val_folds_df.iloc[i].values\n",
    "            if regularisation_identifier == 'R2':   # pick lambda based on R2\n",
    "                r_val_temp.append(pearsonr(Y_pred[lambd].iloc[indiv_val_temp].values.flatten(), Y_df_norm.iloc[indiv_val_temp].values.flatten())[0]**2)\n",
    "            elif regularisation_identifier == 'foh2':# pick lambda based on E_genes(R2/h2)\n",
    "                R2_gbg_temp = []\n",
    "                for gene in heritability_df.index:\n",
    "                    R2_gbg_temp.append(pearsonr(Y_pred[lambd].iloc[indiv_val_temp].loc[:, gene], Y_df_norm.iloc[indiv_val_temp].loc[:, gene])[0]**2)\n",
    "                R2_gbg_temp = np.nan_to_num(R2_gbg_temp, nan=0)\n",
    "                r_val_temp.append(np.mean(R2_gbg_temp/heritability_df.h2))\n",
    "            elif regularisation_identifier == 'rR2h2':# pick lambda based on r(R2, h2)\n",
    "                R2_gbg_temp = []\n",
    "                for gene in heritability_df.index:\n",
    "                    R2_gbg_temp.append(pearsonr(Y_pred[lambd].iloc[indiv_val_temp].loc[:, gene], Y_df_norm.iloc[indiv_val_temp].loc[:, gene])[0]**2)\n",
    "                R2_gbg_temp = np.nan_to_num(R2_gbg_temp, nan=0)\n",
    "                r_val_temp.append(pearsonr(R2_gbg_temp, heritability_df.h2)[0]**2)\n",
    "            elif regularisation_identifier == 'R2_gbg':# pick lambda based on r(R2, h2)\n",
    "                R2_gbg_temp = []\n",
    "                for gene in heritability_df.index:\n",
    "                    R2_gbg_temp.append(pearsonr(Y_pred[lambd].iloc[indiv_val_temp].loc[:, gene], Y_df_norm.iloc[indiv_val_temp].loc[:, gene])[0]**2)\n",
    "                R2_gbg_temp = np.nan_to_num(R2_gbg_temp, nan=0)\n",
    "                r_val_temp.append(np.mean(R2_gbg_temp))\n",
    "\n",
    "    \n",
    "        r_val_temp = np.nan_to_num(r_val_temp, nan=0)\n",
    "        r_val.append(np.mean(r_val_temp))\n",
    "    \n",
    "    lambd_opt = lambdas[np.argmax(r_val)]\n",
    "    \n",
    "    if plot:\n",
    "        plt.scatter(lambdas, r_val)\n",
    "        plt.axvline(lambd_opt, color = 'k', label = 'lambd_opt')\n",
    "        plt.legend()\n",
    "        plt.xlabel('lambda')\n",
    "        plt.ylabel('r val')\n",
    "        plt.show()\n",
    "    \n",
    "    for i in range(N_folds):\n",
    "        indiv_test_temp = test_folds_df.iloc[i].values\n",
    "\n",
    "        R2_gbg_temp = []\n",
    "        for gene in heritability_df.index:\n",
    "            R2_gbg_temp.append(pearsonr(Y_pred[lambd_opt].iloc[indiv_test_temp].loc[:, gene], Y_df_norm.iloc[indiv_test_temp].loc[:, gene])[0]**2)\n",
    "        R2_gbg_temp = np.nan_to_num(R2_gbg_temp, nan=0)\n",
    "        R2_gbg.append(R2_gbg_temp)\n",
    "\n",
    "        E_R2_gbg.append(np.mean(R2_gbg_temp))\n",
    "        R2_R2_h2.append(pearsonr(R2_gbg_temp, heritability_df.h2)[0]**2)\n",
    "        foh2.append(np.mean(R2_gbg_temp/heritability_df.h2))\n",
    "        R2.append(pearsonr(Y_df_norm.iloc[indiv_test_temp].values.flatten(), Y_pred[lambd_opt].iloc[indiv_test_temp].values.flatten())[0]**2)\n",
    "\n",
    "    return lambd_opt, np.array(R2_gbg), np.array(E_R2_gbg), np.array(R2_R2_h2), np.array(foh2), np.array(R2)"
   ]
  },
  {
   "cell_type": "code",
   "execution_count": 117,
   "id": "cbed81ba-dddb-483c-b7d1-4b2eac0dbd3a",
   "metadata": {
    "scrolled": true
   },
   "outputs": [
    {
     "name": "stdout",
     "output_type": "stream",
     "text": [
      "0.0\n",
      "0.001\n",
      "0.002\n",
      "0.003\n",
      "0.004\n",
      "0.005\n",
      "0.006\n",
      "0.007\n",
      "0.008\n",
      "0.009\n",
      "0.01\n",
      "0.011\n",
      "0.012\n",
      "0.013\n",
      "0.014\n",
      "0.015\n",
      "0.016\n",
      "0.017\n",
      "0.018\n",
      "0.019\n",
      "0.02\n",
      "0.021\n",
      "0.022\n",
      "0.023\n",
      "0.024\n",
      "0.025\n",
      "0.026\n",
      "0.027\n",
      "0.028\n",
      "0.029\n",
      "0.03\n",
      "0.031\n",
      "0.032\n",
      "0.033\n",
      "0.034\n",
      "0.035\n",
      "0.036\n",
      "0.037\n",
      "0.038\n",
      "0.039\n",
      "0.04\n",
      "0.041\n",
      "0.042\n",
      "0.043\n",
      "0.044\n",
      "0.045\n",
      "0.046\n",
      "0.047\n",
      "0.048\n",
      "0.049\n",
      "0.05\n",
      "0.055\n",
      "0.06\n",
      "0.065\n",
      "0.07\n",
      "0.075\n",
      "0.08\n",
      "0.085\n",
      "0.09\n",
      "0.095\n",
      "0.1\n"
     ]
    },
    {
     "data": {
      "image/png": "[encoded data removed]",
      "text/plain": [
       "<Figure size 640x480 with 1 Axes>"
      ]
     },
     "metadata": {},
     "output_type": "display_data"
    }
   ],
   "source": [
    "regularisation_identifier = 'R2_gbg'\n",
    "lambd_opt_cis, R2_gbg_cis, E_R2_gbg_cis, R2_R2_h2_cis, foh2_cis, R2_cis = choose_optimal_L1reg(Y_pred_cis, regularisation_identifier, heritability_df, plot=True)"
   ]
  },
  {
   "cell_type": "code",
   "execution_count": 96,
   "id": "03750820-fc39-4ae4-b7ef-f515d2be5779",
   "metadata": {},
   "outputs": [],
   "source": [
    "print('lambd_opt_cis = ', lambd_opt_cis) \n",
    "D = D_cis[lambd_opt_cis]\n",
    "D.to_csv(results_path+'D_cis_lasso_genebygene.csv')"
   ]
  },
  {
   "cell_type": "markdown",
   "id": "5768e540-45d3-460e-9ad5-49f6b4c3e820",
   "metadata": {},
   "source": [
    "# 3. QOM 1st order"
   ]
  },
  {
   "cell_type": "code",
   "execution_count": null,
   "id": "c5d1ff8f-8a1a-4233-92c7-a3a50764b635",
   "metadata": {},
   "outputs": [],
   "source": [
    "# if not computed here, load precomputed D\n",
    "D = pd.read_csv(precomputed_results_path+'D_cis_lasso_genebygene.csv', index_col = 0)"
   ]
  },
  {
   "cell_type": "code",
   "execution_count": 100,
   "id": "6d8b0a0a-2b99-4080-ba00-dd1223283a82",
   "metadata": {},
   "outputs": [],
   "source": [
    "def compute_B_QOM1_for_one_lambda(D, B_prior, lambd):\n",
    "    '''\n",
    "    Lasso (L1 norm regularised) regression on selected network links to fit 1st order QOM\n",
    "    D: (N_indiv, N_genes) direct genetic effects matrix\n",
    "    B_prior:  (N_genes, N_genes) binary matrix defining the sparsity strustuce of the gene regulatory network matrix B\n",
    "    lambd: L1 norm regularisation strength\n",
    "    returns\n",
    "        B_fit: (N_genes, N_genes) fitted GRN with only the entries specified in B_prior nonzero\n",
    "    '''\n",
    "\n",
    "    B_fit = 0.0*B_prior\n",
    "\n",
    "    XD = X_df_norm@D\n",
    "    Y_temp = Y_df_norm-XD\n",
    "\n",
    "    for gene in D.columns:\n",
    "        clf = Lasso(alpha= lambd, max_iter = 20000, random_state = np.random.randint(1, 100))\n",
    "        genes_index = B_prior.loc[B_prior.loc[:, gene]>0, gene].index\n",
    "        if len(genes_index) > 0:\n",
    "            clf.fit(XD.iloc[individuals_train].loc[:, genes_index], Y_temp.iloc[individuals_train].loc[:, gene])\n",
    "            B_fit.loc[genes_index, gene] = clf.coef_\n",
    "            \n",
    "    B_fit.to_csv(results_path+'B_fit_QOM1_Lasso_genebygene_lambd{}.csv'.format(lambd))\n",
    "    \n",
    "    return B_fit\n"
   ]
  },
  {
   "cell_type": "markdown",
   "id": "a64f880b-1aa0-45d5-ad37-522d4a8d5ef6",
   "metadata": {},
   "source": [
    "### 3.1 fit QOM1 for different values of L1 regularisor"
   ]
  },
  {
   "cell_type": "code",
   "execution_count": 119,
   "id": "7bb7819d-db0d-439c-8159-6553a3398069",
   "metadata": {},
   "outputs": [
    {
     "name": "stdout",
     "output_type": "stream",
     "text": [
      "0.001\n",
      "0.002\n",
      "0.003\n",
      "0.004\n",
      "0.005\n",
      "0.006\n",
      "0.007\n",
      "0.008\n",
      "0.009\n",
      "0.02\n",
      "0.03\n",
      "0.04\n",
      "0.05\n",
      "0.06\n",
      "0.07\n",
      "0.08\n",
      "0.09\n"
     ]
    }
   ],
   "source": [
    "B_QOM1 = {}\n",
    "lambd_list_QOM1 = np.append(np.arange(1, 10)/1000, np.arange(2, 10)/100)\n",
    "for lambd in lambd_list_QOM1:\n",
    "    print(lambd)\n",
    "    B_QOM1[lambd] = compute_B_QOM1_for_one_lambda(D, B_prior, lambd)\n",
    "\n",
    "# or load pre-computed B_QOM1_opt\n",
    "# B_QOM1_opt = pd.read_csv(precomp_results_path+'B_fit_QOM1_lasso_genebygene.csv', index_col = 0)"
   ]
  },
  {
   "cell_type": "code",
   "execution_count": 127,
   "id": "27b19afa-8d79-4476-b3c1-c221bbef36cc",
   "metadata": {},
   "outputs": [],
   "source": [
    "Y_pred_QOM1 = {}\n",
    "for lambd in B_QOM1.keys():\n",
    "    Y_pred_QOM1[lambd] = X_df_norm@D@(I+B_QOM1[lambd])"
   ]
  },
  {
   "cell_type": "markdown",
   "id": "210e6bfa-13f6-4511-9c28-242333d4900d",
   "metadata": {},
   "source": [
    "### 3.2 pick optimal regularisation"
   ]
  },
  {
   "cell_type": "code",
   "execution_count": 129,
   "id": "b37dca7c-9ec8-4dea-bd30-5ab53ae2c153",
   "metadata": {
    "scrolled": true
   },
   "outputs": [
    {
     "name": "stdout",
     "output_type": "stream",
     "text": [
      "0.001\n",
      "0.002\n",
      "0.003\n",
      "0.004\n",
      "0.005\n",
      "0.006\n",
      "0.007\n",
      "0.008\n",
      "0.009\n",
      "0.02\n",
      "0.03\n",
      "0.04\n",
      "0.05\n",
      "0.06\n",
      "0.07\n",
      "0.08\n",
      "0.09\n"
     ]
    }
   ],
   "source": [
    "# pick optimal regulariser\n",
    "regularisation_identifier = 'R2_gbg'\n",
    "lambd_opt_QOM1, R2_gbg_QOM1, E_R2_gbg_QOM1, R2_R2_h2_QOM1, foh2_QOM1, R2_QOM1 = choose_optimal_L1reg(Y_pred_QOM1, regularisation_identifier, heritability_df)"
   ]
  },
  {
   "cell_type": "code",
   "execution_count": 131,
   "id": "3a489a38-cae6-4919-ba6a-447a7d83c76b",
   "metadata": {},
   "outputs": [
    {
     "name": "stdout",
     "output_type": "stream",
     "text": [
      "lambd_opt_QOM1 =  0.002\n"
     ]
    }
   ],
   "source": [
    "print('lambd_opt_QOM1 = ', lambd_opt_QOM1) \n",
    "B_QOM1_opt = B_QOM1[lambd_opt_QOM1]\n",
    "B_QOM1_opt.to_csv(results_path+'B_fit_QOM1_lasso_genebygene.csv')"
   ]
  },
  {
   "cell_type": "markdown",
   "id": "9eb3e040-eb63-4282-a69d-bce08363cc7c",
   "metadata": {},
   "source": [
    "# 4. QOM 2nd order"
   ]
  },
  {
   "cell_type": "code",
   "execution_count": 161,
   "id": "9de86829-74c5-4d11-8241-7eba22c4a101",
   "metadata": {},
   "outputs": [],
   "source": [
    "def convert_b_into_matrix(omega):\n",
    "    index = 0\n",
    "    B_fit_BFGS = 0.0*B_prior\n",
    "    for i, j in zip(x_nonzero_B, y_nonzero_B):\n",
    "        B_fit_BFGS.iloc[i, j]= omega[index]\n",
    "        index+=1\n",
    "    return B_fit_BFGS\n",
    "\n",
    "def compute_derivative(i, j, loss, B, XDB, Bloss):\n",
    "    l = loss.iloc[:, j]\n",
    "    XD_i = XD.iloc[:, i]\n",
    "    return 2*(-np.multiply(XD_i, l) - np.multiply(XDB.iloc[:, i],l)- np.multiply(Bloss.iloc[j], XD_i))\n",
    "\n",
    "alpha = 5E3\n",
    "x_max = 0.01\n",
    "def smooth_abs(x, alpha):\n",
    "    abs_x = np.abs(x)\n",
    "    abs_x[abs_x<x_max] = 1/alpha*(np.log(1+np.exp(-alpha*x[abs_x<x_max]))+np.log(1+np.exp(alpha*x[abs_x<x_max])))\n",
    "    return abs_x\n",
    "\n",
    "def grad_smooth_abs(x, alpha):\n",
    "    sign_x = np.sign(x)\n",
    "    abs_x = np.abs(x)\n",
    "    sign_x[abs_x<x_max] = 1/(1+np.exp(-alpha*x[abs_x<x_max]))-1/(1+np.exp(alpha*x[abs_x<x_max]))\n",
    "    return sign_x\n",
    "\n",
    "def objective(b):\n",
    "    B = convert_b_into_matrix(b)\n",
    "    loss = YminusXD - XD@B@(I + B)\n",
    "    # Lasso\n",
    "    return np.sum(np.diag(loss@loss.T)) + lambd*np.sum(smooth_abs(b, alpha))\n",
    "\n",
    "def jacobian(b):\n",
    "    B = convert_b_into_matrix(b)\n",
    "    XDB = XD@B\n",
    "    loss = YminusXD - XDB@(I + B)\n",
    "    Bloss = B@(loss.T)\n",
    "    deriv = Parallel(n_jobs = n_jobs)(delayed(compute_derivative)(i, j, loss, B, XDB, Bloss) for i, j in index_to_coord_dict.values())\n",
    "    return np.sum(deriv, axis=1) + lambd*grad_smooth_abs(b, alpha)\n",
    "\n",
    "def compute_B_QOM2_for_one_lambda(D, B_prior, lambd, precision, max_iter):\n",
    "    '''\n",
    "    L-BFGS-B numerical optimisation selected network links to fit 2nd order QOM\n",
    "    \n",
    "    D: (N_indiv, N_genes) direct genetic effects matrix\n",
    "    B_prior: (N_genes, N_genes) binary matrix defining the sparsity strustuce of the gene regulatory network matrix B\n",
    "    lambd: float, L1 norm regularisation strength\n",
    "    precision: int, L-BFGS-B parameter. The lower, the more precise. \n",
    "    max_iter: int, maximal number of iterations of L-BFGS-B alorithm\n",
    "    \n",
    "    returns B_fit: (N_genes, N_genes) fitted GRN with only the entries specified in B_prior nonzero\n",
    "    '''        \n",
    "    # BFGS\n",
    "    max_index = len(B_prior.values.nonzero()[0])\n",
    "\n",
    "    filename = 'B_fit_QOM2_Lasso_lambd{}_bound={}_prec={}.csv'.format(lambd, bound, precision)\n",
    "\n",
    "    try: #prior load previous result\n",
    "        b0 = pd.read_csv(results_path+filename, index_col = 0)\n",
    "        b0 = b0.values.flatten()[nonzero_B]\n",
    "    except: # initiate b0=0 if no previous results available\n",
    "        b0 = 0*nonzero_B\n",
    "    print('b0', b0)\n",
    "    \n",
    "    print('starting optimization')\n",
    "    result = optimize.fmin_l_bfgs_b(objective, b0, fprime= jacobian, approx_grad=False, iprint = 1, bounds = np.transpose([np.ones(int(B_prior.sum().sum()))*b_min, np.ones(int(B_prior.sum().sum()))*b_max]), factr = precision, maxiter = max_iter, maxls = 20, maxfun=6020000)\n",
    "    B_fit = pd.DataFrame(convert_b_into_matrix(result[0]), index = B_prior.index, columns = B_prior.columns)\n",
    "    B_fit.to_csv(results_path+filename)\n",
    "    print('saved for lambda {}, B_fit to {}'.format(lambd, results_path+filename))\n",
    "    print('stats: ', 'bound: ', bound, 'precision: ', precision, 'loss:', result[1], 'task:', result[2]['task'], 'num_iter:', result[2]['nit'])\n",
    "\n",
    "    r_test = pearsonr(Y_df_norm.iloc[individuals_test].values.flatten(), (X_df_norm.iloc[individuals_test]@D@(I+B_fit+B_fit@B_fit)).values.flatten())[0]\n",
    "    r_train = pearsonr(Y_df_norm.iloc[individuals_train].values.flatten(), (X_df_norm.iloc[individuals_train]@D@(I+B_fit+B_fit@B_fit)).values.flatten())[0]\n",
    "    print('r_test = {:0.4f}, r_train = {:0.4f}'.format(r_test, r_train))\n",
    "\n",
    "    return B_fit"
   ]
  },
  {
   "cell_type": "markdown",
   "id": "dc918d34-f914-4f6c-a5b5-ef4728f5fe54",
   "metadata": {},
   "source": [
    "### 4.1 fit QOM2 for different values of L1 regularisor"
   ]
  },
  {
   "cell_type": "code",
   "execution_count": 210,
   "id": "9bdcb4b4-3adb-46cd-86a0-4586ffc73315",
   "metadata": {},
   "outputs": [],
   "source": [
    "# set L-BFGS-B parameters & prepare variables for fitting\n",
    "bound = 11.0\n",
    "precision = 1E6\n",
    "max_iter = 5\n",
    "n_jobs = 1\n",
    "\n",
    "b_min = -bound\n",
    "b_max = bound\n",
    "\n",
    "x_nonzero_B = B_prior.values.nonzero()[0]\n",
    "y_nonzero_B = B_prior.values.nonzero()[1]\n",
    "\n",
    "coord_to_index_dict = {}\n",
    "index_to_coord_dict = {}\n",
    "\n",
    "index = 0\n",
    "for xx, yy in zip(x_nonzero_B, y_nonzero_B):\n",
    "    coord_to_index_dict[(xx, yy)] = index\n",
    "    index_to_coord_dict[index] = (xx, yy)\n",
    "    index +=1 \n",
    "\n",
    "indiv = individuals_train\n",
    "XD = X_df_norm.iloc[indiv]@D\n",
    "YminusXD = Y_df_norm.iloc[indiv] - XD\n",
    "nonzero_B  = B_prior.values.flatten().nonzero()[0]"
   ]
  },
  {
   "cell_type": "code",
   "execution_count": null,
   "id": "6eb9af72-5265-4dca-b50c-4013fe8cc46b",
   "metadata": {},
   "outputs": [],
   "source": [
    "# if not computed here, load precomputed D\n",
    "D = pd.read_csv(precomputed_results_path+'D_cis_lasso_genebygene.csv', index_col = 0)"
   ]
  },
  {
   "cell_type": "code",
   "execution_count": 185,
   "id": "f09ca406-9307-4488-b27b-e65df8c56adf",
   "metadata": {
    "scrolled": true
   },
   "outputs": [
    {
     "name": "stdout",
     "output_type": "stream",
     "text": [
      "0.3\n",
      "0.4\n",
      "0.5\n",
      "0.6\n",
      "0.7\n",
      "0.8\n",
      "0.9\n",
      "1.0\n",
      "1.1\n",
      "2.0\n",
      "3.0\n",
      "4.0\n",
      "5.0\n",
      "6.0\n",
      "7.0\n",
      "8.0\n"
     ]
    }
   ],
   "source": [
    "B_QOM2 = {}\n",
    "lambd_list_QOM2 = [0.3, 0.4, 0.5, 0.6, 0.7, 0.8, 0.9, 1. , 1.1, 2. , 3. , 4. , 5. ,\n",
    "       6. , 7. , 8. ]\n",
    "for lambd in lambd_list_QOM2:\n",
    "    print(lambd)\n",
    "    B_QOM2[lambd] = compute_B_QOM2_for_one_lambda(D, B_prior, lambd, precision, max_iter)\n",
    "\n",
    "# or load precomputed B_QOM2_opt\n",
    "# B_QOM2_opt = pd.read_csv(precomp_results_path+'B_fit_QOM2_LBFGS.csv', index_col = 0)"
   ]
  },
  {
   "cell_type": "code",
   "execution_count": 186,
   "id": "5fc7e4bc-7a84-4f5f-a93f-1764db876e62",
   "metadata": {},
   "outputs": [],
   "source": [
    "Y_pred_QOM2 = {}\n",
    "for lambd in B_QOM2.keys():\n",
    "    Y_pred_QOM2[lambd] = X_df_norm@D@(I+B_QOM2[lambd]+B_QOM2[lambd]@B_QOM2[lambd])"
   ]
  },
  {
   "cell_type": "markdown",
   "id": "3b341258-0386-48fd-ab07-8f27df0f8606",
   "metadata": {},
   "source": [
    "### 4.2 pick optimal regulariser "
   ]
  },
  {
   "cell_type": "code",
   "execution_count": 187,
   "id": "09af46db-0152-4dfb-8e20-47e04f5776d6",
   "metadata": {
    "scrolled": true
   },
   "outputs": [
    {
     "name": "stdout",
     "output_type": "stream",
     "text": [
      "0.3\n",
      "0.4\n",
      "0.5\n",
      "0.6\n",
      "0.7\n",
      "0.8\n",
      "0.9\n",
      "1.0\n",
      "1.1\n",
      "2.0\n",
      "3.0\n",
      "4.0\n",
      "5.0\n",
      "6.0\n",
      "7.0\n",
      "8.0\n"
     ]
    },
    {
     "data": {
      "image/png": "[encoded data removed]",
      "text/plain": [
       "<Figure size 640x480 with 1 Axes>"
      ]
     },
     "metadata": {},
     "output_type": "display_data"
    }
   ],
   "source": [
    "# pick optimal regulariser\n",
    "regularisation_identifier = 'R2_gbg'\n",
    "lambd_opt_QOM2, R2_gbg_QOM2, E_R2_gbg_QOM2, R2_R2_h2_QOM2, foh2_QOM2, R2_QOM2 = choose_optimal_L1reg(Y_pred_QOM2, regularisation_identifier, heritability_df)"
   ]
  },
  {
   "cell_type": "code",
   "execution_count": 189,
   "id": "a4e52763-f55f-4bc3-8b56-515d78745e19",
   "metadata": {},
   "outputs": [
    {
     "name": "stdout",
     "output_type": "stream",
     "text": [
      "lambd_opt_QOM2 =  0.9\n"
     ]
    }
   ],
   "source": [
    "print('lambd_opt_QOM2 = ', lambd_opt_QOM2) \n",
    "B_QOM2_opt = B_QOM2[lambd_opt_QOM2]\n",
    "B_QOM2_opt.to_csv(results_path+'B_fit_QOM2_LBFGS.csv')"
   ]
  },
  {
   "cell_type": "markdown",
   "id": "6673536d-42f6-43af-9cdf-f8dacd0ee1af",
   "metadata": {},
   "source": [
    "# 5. QOM 3rd order"
   ]
  },
  {
   "cell_type": "code",
   "execution_count": 216,
   "id": "435a76a7-7179-4603-aaae-7482986f0a57",
   "metadata": {},
   "outputs": [],
   "source": [
    "def convert_b_into_matrix(omega):\n",
    "    index = 0\n",
    "    B_fit_BFGS = 0.0*B_prior\n",
    "    for i, j in zip(x_nonzero_B, y_nonzero_B):\n",
    "        B_fit_BFGS.iloc[i, j]= omega[index]\n",
    "        index+=1\n",
    "    return B_fit_BFGS\n",
    "\n",
    "def compute_derivative(i, j, loss, B, XDB, Bloss, Bloss_T):\n",
    "    XD_i = XD.iloc[:, i]\n",
    "    l = loss.iloc[:, j]\n",
    "    Bloss_j = Bloss.iloc[j]\n",
    "    XDB_i = XDB.iloc[:, i]\n",
    "#     second_order = np.multiply(XD_i, l) + np.multiply(XDB.iloc[:, i],l) + np.multiply(Bloss_j, XD_i)\n",
    "#     third_order_corr = np.multiply(XD_i, loss@B.T@B.iloc[j]) + np.multiply(l, XDB@B.iloc[:, i]) + np.multiply(Bloss_j, XDB.iloc[:, i])\n",
    "#     return -2*np.sum(second_order + third_order_corr)\n",
    "    return -2*np.sum(np.multiply(XD_i, l+(Bloss_T)@B.iloc[j]) + np.multiply(XDB_i+XDB@(B.iloc[:, i]),l) + np.multiply(Bloss_j, XD_i+XDB_i))\n",
    "\n",
    "alpha = 5E3\n",
    "x_max = 0.01\n",
    "def smooth_abs(x, alpha):\n",
    "    abs_x = np.abs(x)\n",
    "    abs_x[abs_x<x_max] = 1/alpha*(np.log(1+np.exp(-alpha*x[abs_x<x_max]))+np.log(1+np.exp(alpha*x[abs_x<x_max])))\n",
    "    return abs_x\n",
    "\n",
    "def grad_smooth_abs(x, alpha):\n",
    "    sign_x = np.sign(x)\n",
    "    abs_x = np.abs(x)\n",
    "    sign_x[abs_x<x_max] = 1/(1+np.exp(-alpha*x[abs_x<x_max]))-1/(1+np.exp(alpha*x[abs_x<x_max]))\n",
    "    return sign_x\n",
    "\n",
    "def objective(b):\n",
    "    B = convert_b_into_matrix(b)\n",
    "    loss = YminusXD - XD@B@(I + B + B@B)\n",
    "    #LASSO\n",
    "    return np.sum(np.diag(loss@loss.T)) + lambd*np.sum(smooth_abs(b, alpha))\n",
    "if n_jobs>1:\n",
    "    def jacobian(b):\n",
    "        B = convert_b_into_matrix(b)\n",
    "        XDB = XD@B\n",
    "        loss = YminusXD - XDB@(I + B + B@B)\n",
    "        Bloss = B@(loss.T)\n",
    "        Bloss_T = Bloss.T\n",
    "        deriv = Parallel(n_jobs = n_jobs)(delayed(compute_derivative)(i, j, loss, B, XDB, Bloss, Bloss_T) for i, j in index_to_coord_dict.values())\n",
    "        return deriv+lambd*grad_smooth_abs(b, alpha)\n",
    "else:\n",
    "    def jacobian(b):\n",
    "        B = convert_b_into_matrix(b)\n",
    "        XDB = XD@B\n",
    "        loss = YminusXD - XDB@(I + B + B@B)\n",
    "        Bloss = B@(loss.T)\n",
    "        Bloss_T = Bloss.T\n",
    "        deriv = [compute_derivative(i, j, loss, B, XDB, Bloss, Bloss_T) for i, j in index_to_coord_dict.values()]\n",
    "        return deriv+lambd*grad_smooth_abs(b, alpha)\n",
    "\n",
    "\n",
    "def compute_B_QOM3_for_one_lambda(D, B_prior, lambd, precision, max_iter):\n",
    "    '''\n",
    "    L-BFGS-B numerical optimisation selected network links to fit 3rd order QOM\n",
    "    \n",
    "    D: (N_indiv, N_genes) direct genetic effects matrix\n",
    "    B_prior: (N_genes, N_genes) binary matrix defining the sparsity strustuce of the gene regulatory network matrix B\n",
    "    lambd: float, L1 norm regularisation strength\n",
    "    precision: int, L-BFGS-B parameter. The lower, the more precise. \n",
    "    max_iter: int, maximal number of iterations of L-BFGS-B alorithm\n",
    "    \n",
    "    returns B_fit: (N_genes, N_genes) fitted GRN with only the entries specified in B_prior nonzero\n",
    "    '''        \n",
    "    # BFGS\n",
    "    max_index = len(B_prior.values.nonzero()[0])\n",
    "\n",
    "    filename = 'B_fit_QOM3_Lasso_lambd{}_bound={}_prec={}.csv'.format(lambd, bound, precision)\n",
    "\n",
    "    try: #prior load previous result\n",
    "        b0 = pd.read_csv(results_path+filename, index_col = 0)\n",
    "        b0 = b0.values.flatten()[nonzero_B]\n",
    "    except: # initiate b0=0 if no previous results available\n",
    "        b0 = 0*nonzero_B\n",
    "    print('b0', b0)\n",
    "    \n",
    "    print('starting optimization')\n",
    "    result = optimize.fmin_l_bfgs_b(objective, b0, fprime= jacobian, approx_grad=False, iprint = 1, bounds = np.transpose([np.ones(int(B_prior.sum().sum()))*b_min, np.ones(int(B_prior.sum().sum()))*b_max]), factr = precision, maxiter = max_iter, maxls = 20, maxfun=6020000)\n",
    "    B_fit = pd.DataFrame(convert_b_into_matrix(result[0]), index = B_prior.index, columns = B_prior.columns)\n",
    "    B_fit.to_csv(results_path+filename)\n",
    "    print('saved for lambda {}, B_fit to {}'.format(lambd, results_path+filename))\n",
    "    print('stats: ', 'bound: ', bound, 'precision: ', precision, 'loss:', result[1], 'task:', result[2]['task'], 'num_iter:', result[2]['nit'])\n",
    "\n",
    "    Y_pred = X_df_norm@D@(I+B_fit+B_fit@B_fit+B_fit@B_fit@B_fit)\n",
    "    r_test = pearsonr(Y_df_norm.iloc[individuals_test].values.flatten(), Y_pred.iloc[individuals_test].values.flatten())[0]\n",
    "    r_train = pearsonr(Y_df_norm.iloc[individuals_train].values.flatten(),Y_pred.iloc[individuals_train].values.flatten())[0]\n",
    "    print('r_test = {:0.4f}, r_train = {:0.4f}'.format(r_test, r_train))\n",
    "\n",
    "    return B_fit"
   ]
  },
  {
   "cell_type": "markdown",
   "id": "e1ee4172-dbd2-465e-99b5-3e37608020ae",
   "metadata": {},
   "source": [
    "### 5.1 fit QOM3 for different values of L1 regularisor"
   ]
  },
  {
   "cell_type": "code",
   "execution_count": 214,
   "id": "b8b2aafc-6de2-4d0b-9677-22e4653c1739",
   "metadata": {},
   "outputs": [],
   "source": [
    "# set L-BFGS-B parameters & prepare variables for fitting\n",
    "bound = 11.0\n",
    "precision = 1E6\n",
    "max_iter = 5\n",
    "n_jobs = 1\n",
    "\n",
    "b_min = -bound\n",
    "b_max = bound\n",
    "\n",
    "x_nonzero_B = B_prior.values.nonzero()[0]\n",
    "y_nonzero_B = B_prior.values.nonzero()[1]\n",
    "\n",
    "coord_to_index_dict = {}\n",
    "index_to_coord_dict = {}\n",
    "\n",
    "index = 0\n",
    "for xx, yy in zip(x_nonzero_B, y_nonzero_B):\n",
    "    coord_to_index_dict[(xx, yy)] = index\n",
    "    index_to_coord_dict[index] = (xx, yy)\n",
    "    index +=1 \n",
    "\n",
    "indiv = individuals_train\n",
    "XD = X_df_norm.iloc[indiv]@D\n",
    "YminusXD = Y_df_norm.iloc[indiv] - XD\n",
    "nonzero_B  = B_prior.values.flatten().nonzero()[0]"
   ]
  },
  {
   "cell_type": "code",
   "execution_count": null,
   "id": "50203129-207d-41cf-900f-2fc15172ef08",
   "metadata": {},
   "outputs": [],
   "source": [
    "# if not computed here, load precomputed D\n",
    "D = pd.read_csv(precomputed_results_path+'D_cis_lasso_genebygene.csv', index_col = 0)"
   ]
  },
  {
   "cell_type": "code",
   "execution_count": 226,
   "id": "5740bca2-824a-4b12-9b7b-612508cf608b",
   "metadata": {
    "collapsed": true,
    "jupyter": {
     "outputs_hidden": true
    },
    "scrolled": true
   },
   "outputs": [
    {
     "name": "stdout",
     "output_type": "stream",
     "text": [
      "0.8\n",
      "1.0\n",
      "1.1\n",
      "1.3\n",
      "1.5\n",
      "1.7\n",
      "1.9\n",
      "2.0\n",
      "3.0\n",
      "4.0\n",
      "5.0\n",
      "6.0\n",
      "7.0\n",
      "8.0\n",
      "9.0\n",
      "10.0\n"
     ]
    }
   ],
   "source": [
    "B_QOM3 = {}\n",
    "lambd_list_QOM3 = [ 0.8,  1. ,  1.1,  1.3,  1.5,  1.7,  1.9,  2. ,  3. ,  4. ,  5. ,\n",
    "        6. ,  7. ,  8. ,  9. , 10. ]\n",
    "\n",
    "for lambd in lambd_list_QOM3:\n",
    "    print(lambd)\n",
    "    B_QOM3[lambd] = compute_B_QOM3_for_one_lambda(D, B_prior, lambd, precision, max_iter)\n",
    "\n",
    "# or load precomputed B_QOM3_opt\n",
    "# B_QOM3_opt = pd.read_csv(precomp_results_path+'B_fit_QOM3_LBFGS.csv', index_col = 0)"
   ]
  },
  {
   "cell_type": "code",
   "execution_count": 235,
   "id": "82844abd-2bad-4386-b7b2-8b68e3ed0d2d",
   "metadata": {},
   "outputs": [],
   "source": [
    "Y_pred_QOM3 = {}\n",
    "for lambd in B_QOM3.keys():\n",
    "    Y_pred_QOM3[lambd] = X_df_norm@D@(I+B_QOM3[lambd]+B_QOM3[lambd]@B_QOM3[lambd]+B_QOM3[lambd]@B_QOM3[lambd]@B_QOM3[lambd])"
   ]
  },
  {
   "cell_type": "markdown",
   "id": "d98f3afb-bece-48ad-88b3-a770f3abc398",
   "metadata": {},
   "source": [
    "### 5.2 pick optimal regulariser "
   ]
  },
  {
   "cell_type": "code",
   "execution_count": 236,
   "id": "022030ae-804a-4b47-9189-96bda645ed35",
   "metadata": {
    "scrolled": true
   },
   "outputs": [
    {
     "name": "stdout",
     "output_type": "stream",
     "text": [
      "0.8\n",
      "1.0\n",
      "1.1\n",
      "1.3\n",
      "1.5\n",
      "1.7\n",
      "1.9\n",
      "2.0\n",
      "3.0\n",
      "4.0\n",
      "5.0\n",
      "6.0\n",
      "7.0\n",
      "8.0\n",
      "9.0\n",
      "10.0\n"
     ]
    },
    {
     "data": {
      "image/png": "[encoded data removed]",
      "text/plain": [
       "<Figure size 640x480 with 1 Axes>"
      ]
     },
     "metadata": {},
     "output_type": "display_data"
    }
   ],
   "source": [
    "# pick optimal regulariser\n",
    "regularisation_identifier = 'R2_gbg'\n",
    "lambd_opt_QOM3, R2_gbg_QOM3, E_R2_gbg_QOM3, R2_R2_h2_QOM3, foh2_QOM3, R2_QOM3 = choose_optimal_L1reg(Y_pred_QOM3, regularisation_identifier, heritability_df)"
   ]
  },
  {
   "cell_type": "code",
   "execution_count": 237,
   "id": "8860b515-f159-41ff-be76-5c3e05300d73",
   "metadata": {},
   "outputs": [
    {
     "name": "stdout",
     "output_type": "stream",
     "text": [
      "lambd_opt_QOM3 =  1.3\n"
     ]
    }
   ],
   "source": [
    "print('lambd_opt_QOM3 = ', lambd_opt_QOM3) \n",
    "B_QOM3_opt = B_QOM3[lambd_opt_QOM3]\n",
    "B_QOM3_opt.to_csv(results_path+'B_fit_QOM3_LBFGS.csv')"
   ]
  },
  {
   "cell_type": "markdown",
   "id": "f77faab9-85cf-4e78-b2a1-92735323afe4",
   "metadata": {},
   "source": [
    "# 6. QOM bound"
   ]
  },
  {
   "cell_type": "code",
   "execution_count": 241,
   "id": "afcfc43a-4bc3-4f37-a678-104b9cb42b5c",
   "metadata": {},
   "outputs": [
    {
     "name": "stdout",
     "output_type": "stream",
     "text": [
      "defined QOM_bound_prior\n"
     ]
    }
   ],
   "source": [
    "# define QOM prior given the fitted direct effects matrix D\n",
    "\n",
    "for n in range(10):\n",
    "    A = 0.0*B_prior\n",
    "    x = B_prior.values.nonzero()[0]\n",
    "    for x, y in zip(B_prior.values.nonzero()[0], B_prior.values.nonzero()[1]):\n",
    "        A.iloc[x, y] = 5E-3*np.random.rand()\n",
    "\n",
    "# QOM bound prior could be defined using D_prior, or D fitted (conservative estimate)\n",
    "QOM_bound_prior = np.abs(np.sign(D_prior@np.linalg.inv(I-A)))\n",
    "# QOM_bound_prior = np.abs(np.sign(D@np.linalg.inv(I-A)))\n",
    "QOM_bound_prior.columns = B_prior.columns\n",
    "print('defined QOM_bound_prior')"
   ]
  },
  {
   "cell_type": "code",
   "execution_count": 248,
   "id": "61f87ab5-ab7f-4fe6-b585-463dd9010995",
   "metadata": {},
   "outputs": [],
   "source": [
    "def compute_G_QOM_bound_for_one_lambda(QOM_bound_prior, lambd): \n",
    "    '''\n",
    "    QOM bound given QOM_bound_prior, estimated by Lasso (L1 norm regularised) regression\n",
    "    QOM_bound_prior: (N_markers, N_genes) binary matrix defining the sparsity structure of QOM bound model\n",
    "    lambd: L1 norm regularisation strength\n",
    "    returns\n",
    "        G_fit: (N_markers, N_genes) matrix of genetic effects\n",
    "    '''\n",
    "    \n",
    "    G_fit = 0*QOM_bound_prior\n",
    "    for gene in QOM_bound_prior.columns:\n",
    "        print(gene)\n",
    "        clf = Lasso(alpha=lambd, max_iter = 100000)\n",
    "        cis_SNPs_index = QOM_bound_prior.loc[QOM_bound_prior.loc[:, gene]>0, gene].index\n",
    "        if len(cis_SNPs_index) > 0:\n",
    "            clf.fit(X_df_full.iloc[individuals_train].loc[:, cis_SNPs_index], Y_df_norm.iloc[individuals_train].loc[:, gene])\n",
    "            G_fit.loc[cis_SNPs_index, gene] = clf.coef_            \n",
    "    G_fit.to_csv(results_path+'G_QOM_bound_Lasso_lambd{}.csv'.format(lambd))\n",
    "    print('COMPLETED for lambda {}'.format(lambd))\n",
    "    return G_fit"
   ]
  },
  {
   "cell_type": "markdown",
   "id": "29624ea1-648a-45a1-a706-fa000b555f6f",
   "metadata": {},
   "source": [
    "### 6.1 fit QOM bound for different values of L1 regularisor"
   ]
  },
  {
   "cell_type": "code",
   "execution_count": 284,
   "id": "7696e311-fa0b-42a0-90c0-710985b4ce68",
   "metadata": {
    "scrolled": true
   },
   "outputs": [
    {
     "name": "stdout",
     "output_type": "stream",
     "text": [
      "0.016\n",
      "0.018\n",
      "0.02\n",
      "0.022\n",
      "0.024\n",
      "0.026\n",
      "0.028\n",
      "0.03\n",
      "0.032\n",
      "0.034\n",
      "0.036\n",
      "0.038\n",
      "0.04\n",
      "0.042\n",
      "0.044\n",
      "0.046\n",
      "0.048\n"
     ]
    }
   ],
   "source": [
    "G_QOM_bound = {}\n",
    "lambd_list_QOM_bound = [0.016, 0.018, 0.02 , 0.022, 0.024, 0.026, 0.028, 0.03 , 0.032,\n",
    "       0.034, 0.036, 0.038, 0.04 , 0.042, 0.044, 0.046, 0.048]\n",
    "\n",
    "for lambd in lambd_list_QOM_bound:\n",
    "    print(lambd)\n",
    "    G_QOM_bound[lambd] = compute_G_QOM_bound_for_one_lambda(D, QOM_bound_prior, lambd)\n",
    "\n",
    "# or load precomputed G_QOM_bound_opt\n",
    "# G_QOM_bound_opt = pd.read_csv(precomp_results_path+'G_fit_QOM_bound_Lasso_genebygene.csv', index_col = 0)"
   ]
  },
  {
   "cell_type": "code",
   "execution_count": 278,
   "id": "5bdca536-d9db-4d3e-8423-66a9f5fe5e2c",
   "metadata": {},
   "outputs": [],
   "source": [
    "Y_pred_QOM_bound = {}\n",
    "for lambd in G_QOM_bound.keys():\n",
    "    Y_pred_QOM_bound[lambd] = X_df_norm@G_QOM_bound[lambd]"
   ]
  },
  {
   "cell_type": "markdown",
   "id": "5e149554-082a-417d-9b30-afc3b285736e",
   "metadata": {},
   "source": [
    "### 6.2 pick optimal regulariser "
   ]
  },
  {
   "cell_type": "code",
   "execution_count": 279,
   "id": "a29a7810-4d55-4d0e-9d64-fdfc35323c87",
   "metadata": {
    "scrolled": true
   },
   "outputs": [
    {
     "name": "stdout",
     "output_type": "stream",
     "text": [
      "0.016\n",
      "0.018\n",
      "0.02\n",
      "0.022\n",
      "0.024\n",
      "0.026\n",
      "0.028\n",
      "0.03\n",
      "0.032\n",
      "0.034\n",
      "0.036\n",
      "0.038\n",
      "0.04\n",
      "0.042\n",
      "0.044\n",
      "0.046\n",
      "0.048\n"
     ]
    },
    {
     "data": {
      "image/png": "[encoded data removed]",
      "text/plain": [
       "<Figure size 640x480 with 1 Axes>"
      ]
     },
     "metadata": {},
     "output_type": "display_data"
    }
   ],
   "source": [
    "# pick optimal regulariser\n",
    "regularisation_identifier = 'R2_gbg'\n",
    "lambd_opt_QOM_bound, R2_gbg_QOM_bound, E_R2_gbg_QOM_bound, R2_R2_h2_QOM_bound, foh2_QOM_bound, R2_QOM_bound = choose_optimal_L1reg(Y_pred_QOM_bound, regularisation_identifier, heritability_df)"
   ]
  },
  {
   "cell_type": "code",
   "execution_count": 285,
   "id": "7ed55bba-a4a9-4715-bf32-d9313609f5bc",
   "metadata": {},
   "outputs": [
    {
     "name": "stdout",
     "output_type": "stream",
     "text": [
      "lambd_opt_QOM_bound =  0.024\n"
     ]
    }
   ],
   "source": [
    "print('lambd_opt_QOM_bound = ', lambd_opt_QOM_bound) \n",
    "G_QOM_bound_opt = G_QOM_bound[lambd_opt_QOM_bound]\n",
    "G_QOM_bound_opt.to_csv(results_path+'G_fit_QOM_bound_Lasso_genebygene.csv')"
   ]
  },
  {
   "cell_type": "markdown",
   "id": "40d61f60-5682-4def-8763-665ed4a789cc",
   "metadata": {},
   "source": [
    "# 7. PRS"
   ]
  },
  {
   "cell_type": "code",
   "execution_count": 313,
   "id": "52226661-e2ff-4ee7-b4c9-4f6242200b72",
   "metadata": {},
   "outputs": [],
   "source": [
    "def compute_G_PRS_for_one_lambda(lambd):  \n",
    "    '''\n",
    "    polygenic risk score (PRS) fitted using all markers by Lasso (L1 norm regularised) regression\n",
    "    lambd: L1 norm regularisation strength\n",
    "    returns\n",
    "        G_fit: (N_markers, N_genes) matrix of genetic effects\n",
    "    '''\n",
    "    G_fit = pd.DataFrame(np.zeros([X_df_full.shape[1], Y_df_norm.shape[1]]), index = X_df_full.columns, columns = Y_df_norm.columns)   \n",
    "    for gene in Y_df_norm.columns:\n",
    "        print(gene)\n",
    "        clf = Lasso(alpha = lambd, max_iter = 200000)\n",
    "        clf.fit(X_df_full.iloc[individuals_train], Y_df_norm.iloc[individuals_train].loc[:, gene])\n",
    "        G_fit[gene] = clf.coef_\n",
    "        \n",
    "    G_fit.to_csv(results_path+'G_PRS_Lasso_genebygene_lambd{}.csv'.format(lambd))\n",
    "    print('COMPLETED for lambd {}'.format(lambd))\n",
    "    return G_fit"
   ]
  },
  {
   "cell_type": "markdown",
   "id": "8ad1a26b-09ee-456f-a83a-f9dcaa86cf4f",
   "metadata": {},
   "source": [
    "### 7.1 fit PRS for different values of L1 regularisor"
   ]
  },
  {
   "cell_type": "code",
   "execution_count": 314,
   "id": "7bf46908-23ea-4c69-b367-32b1d0ee684b",
   "metadata": {
    "scrolled": true
   },
   "outputs": [
    {
     "name": "stdout",
     "output_type": "stream",
     "text": [
      "0.01\n",
      "0.011\n",
      "0.015\n",
      "0.016\n",
      "0.02\n",
      "0.021\n",
      "0.025\n",
      "0.026\n",
      "0.03\n",
      "0.031\n",
      "0.035\n",
      "0.036\n",
      "0.04\n",
      "0.041\n",
      "0.045\n",
      "0.046\n",
      "0.05\n",
      "0.051\n",
      "0.055\n",
      "0.056\n",
      "0.06\n",
      "0.061\n",
      "0.065\n",
      "0.066\n",
      "0.07\n"
     ]
    }
   ],
   "source": [
    "G_PRS = {}\n",
    "lambd_list_PRS = [0.01 , 0.011, 0.015, 0.016, 0.02 ,\n",
    "       0.021, 0.025, 0.026, 0.03 , 0.031, 0.035, 0.036, 0.04 , 0.041,\n",
    "       0.045, 0.046, 0.05 , 0.051, 0.055, 0.056, 0.06 , 0.061, 0.065,\n",
    "       0.066, 0.07]\n",
    "\n",
    "for lambd in lambd_list_PRS:\n",
    "    print(lambd)\n",
    "    G_PRS[lambd] = compute_G_PRS_for_one_lambda(lambd)\n",
    "\n",
    "# or load precomputed G_PRS_opt\n",
    "# G_PRS_opt = pd.read_csv(precomp_results_path+'G_fit_PRS_Lasso_genebygene.csv', index_col = 0)"
   ]
  },
  {
   "cell_type": "code",
   "execution_count": 315,
   "id": "4a3a60d0-80af-4606-a176-98c32c378183",
   "metadata": {},
   "outputs": [],
   "source": [
    "Y_pred_PRS = {}\n",
    "for lambd in G_PRS.keys():\n",
    "    Y_pred_PRS[lambd] = X_df_full@G_PRS[lambd]"
   ]
  },
  {
   "cell_type": "markdown",
   "id": "7a324a55-8ddb-4804-9606-12ff3b490647",
   "metadata": {},
   "source": [
    "### 7.2 pick optimal regulariser "
   ]
  },
  {
   "cell_type": "code",
   "execution_count": 316,
   "id": "7db7559e-2665-4298-9ef0-3f6e52c72d91",
   "metadata": {
    "scrolled": true
   },
   "outputs": [
    {
     "name": "stdout",
     "output_type": "stream",
     "text": [
      "0.01\n",
      "0.011\n",
      "0.015\n",
      "0.016\n",
      "0.02\n",
      "0.021\n",
      "0.025\n",
      "0.026\n",
      "0.03\n",
      "0.031\n",
      "0.035\n",
      "0.036\n",
      "0.04\n",
      "0.041\n",
      "0.045\n",
      "0.046\n",
      "0.05\n",
      "0.051\n",
      "0.055\n",
      "0.056\n",
      "0.06\n",
      "0.061\n",
      "0.065\n",
      "0.066\n",
      "0.07\n"
     ]
    },
    {
     "data": {
      "image/png": "[encoded data removed]",
      "text/plain": [
       "<Figure size 640x480 with 1 Axes>"
      ]
     },
     "metadata": {},
     "output_type": "display_data"
    }
   ],
   "source": [
    "# pick optimal regulariser\n",
    "regularisation_identifier = 'R2_gbg'\n",
    "lambd_opt_PRS, R2_gbg_PRS, E_R2_gbg_PRS, R2_R2_h2_PRS, foh2_PRS, R2_PRS = choose_optimal_L1reg(Y_pred_PRS, regularisation_identifier, heritability_df)"
   ]
  },
  {
   "cell_type": "code",
   "execution_count": 317,
   "id": "a94b7363-7182-4dc7-84eb-449d56665663",
   "metadata": {},
   "outputs": [
    {
     "name": "stdout",
     "output_type": "stream",
     "text": [
      "lambd_opt_PRS =  0.03\n"
     ]
    }
   ],
   "source": [
    "print('lambd_opt_PRS = ', lambd_opt_PRS) \n",
    "G_PRS_opt = G_PRS[lambd_opt_PRS]\n",
    "G_PRS_opt.to_csv(results_path+'G_fit_PRS_Lasso_genebygene.csv')"
   ]
  },
  {
   "cell_type": "markdown",
   "id": "516774d0-2f58-4dd8-866c-dfe2d89d73bf",
   "metadata": {},
   "source": [
    "# 8. Shuffle GRN matrix"
   ]
  },
  {
   "cell_type": "code",
   "execution_count": 319,
   "id": "26783246-5ea8-45c1-bd37-372c2b5a8a95",
   "metadata": {},
   "outputs": [],
   "source": [
    "def shuffle_B(B_prior, keep_topology, return_genes_order = False):\n",
    "    '''\n",
    "    shuffles GRN matrix topology B_prior conserving the number of edges and other attributed defined by keep_topology\n",
    "    B_prior: (N_genes, N_genes) binary matrix defining the sparsity strustuce of the gene regulatory network matrix B\n",
    "    keep_topology: int; constraint on conserving topological properties of original B_prior\n",
    "        0: conserve only the number of links\n",
    "        1: conserve network topology: permute rows and column labels synchronously\n",
    "        2: conserve in-degree: permute column labels only\n",
    "        3: conserve out-degree: permute index labels only\n",
    "    return_genes_order: bool; if True returns label permutation key\n",
    "    returns: \n",
    "        B_prior: (N_genes, N_genes) shuffled GRN topology\n",
    "    '''\n",
    "\n",
    "    if keep_topology==0:\n",
    "        B_prior_new = B_prior.values.flatten()\n",
    "        np.random.shuffle(B_prior_new)\n",
    "        B_prior = pd.DataFrame(B_prior_new.reshape(B_prior.shape), columns = B_prior.columns, index = B_prior.index)\n",
    "    \n",
    "    elif keep_topology==1:\n",
    "        genes_order = np.array(B_prior.columns)\n",
    "        np.random.shuffle(genes_order)\n",
    "        B_prior.columns = genes_order\n",
    "        B_prior.index = genes_order\n",
    "        B_prior = B_prior.sort_index(axis=0)\n",
    "        B_prior = B_prior.sort_index(axis=1)\n",
    "    \n",
    "    elif keep_topology==2: #shuffle only columns (targets)\n",
    "        selfloops = True\n",
    "        while selfloops:\n",
    "            genes_order = np.array(B_prior.columns)\n",
    "            np.random.shuffle(genes_order)\n",
    "            B_prior.columns = genes_order\n",
    "            B_prior = B_prior.sort_index(axis=1)\n",
    "            selfloops = bool(np.diag(B_prior).sum())\n",
    "    \n",
    "    elif keep_topology==3: #shuffle only rows (regulators)\n",
    "        selfloops = True\n",
    "        while selfloops:\n",
    "            genes_order = np.array(B_prior.columns)\n",
    "            np.random.shuffle(genes_order)\n",
    "            B_prior.index = genes_order\n",
    "            B_prior = B_prior.sort_index(axis=0)\n",
    "            selfloops = bool(np.diag(B_prior).sum())\n",
    "    \n",
    "    if return_genes_order:\n",
    "        return B_prior, genes_order\n",
    "    else:\n",
    "        return B_prior"
   ]
  },
  {
   "cell_type": "code",
   "execution_count": 321,
   "id": "80621015-7915-4d41-a93b-69ec04c39e43",
   "metadata": {},
   "outputs": [],
   "source": [
    "B_prior_new = shuffle_B(B_prior, keep_topology=1)"
   ]
  },
  {
   "cell_type": "code",
   "execution_count": null,
   "id": "a4cd04c5-3b3b-4555-bb01-e40f6e660484",
   "metadata": {},
   "outputs": [],
   "source": []
  }
 ],
 "metadata": {
  "kernelspec": {
   "display_name": "Python 3 (ipykernel)",
   "language": "python",
   "name": "python3"
  },
  "language_info": {
   "codemirror_mode": {
    "name": "ipython",
    "version": 3
   },
   "file_extension": ".py",
   "mimetype": "text/x-python",
   "name": "python",
   "nbconvert_exporter": "python",
   "pygments_lexer": "ipython3",
   "version": "3.11.8"
  }
 },
 "nbformat": 4,
 "nbformat_minor": 5
}
